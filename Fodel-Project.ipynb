{
 "cells": [
  {
   "cell_type": "markdown",
   "metadata": {},
   "source": [
    "# CMSC471 Artificial Intelligence\n",
    "\n",
    "# Project Final Submission"
   ]
  },
  {
   "cell_type": "markdown",
   "metadata": {},
   "source": [
    "## Predicting Expected Goals"
   ]
  },
  {
   "cell_type": "markdown",
   "metadata": {},
   "source": [
    "*Matt Fodel BT61333*"
   ]
  },
  {
   "cell_type": "markdown",
   "metadata": {},
   "source": [
    "## Problem Description\n",
    "There are many questions that can be asked in regard to sports analytics. In this case, the question I will be focusing on is: will a given shot be a goal? As the highest volume sports betting industry, there is undoubtedly a large appeal to predict various events that happen within a soccer match. The way that games are decided in this sport are goals, so it follows that goals are the most important part of every game. To this end, I will be creating an Expected Goal model that attempts to apply a binary classification strategy to define how likely it is for a player to score a goal with a given shot while confronted with certain conditions. "
   ]
  },
  {
   "cell_type": "markdown",
   "metadata": {},
   "source": [
    "## Motivation\n",
    "The basis of my project is the multi-millon dollar industry that is soccer. In addition to the millions of people who are involved in the game worldwide, there is also the potential for individuals to make large amounts of money through the gambling industry. There are many betting companies that provide monetary rewards for the correct forecasting of results, among other predictions. Also, I have been an avid fan of the English Premier League for years and see this project as an opportunity to apply my knowledge of Machine Learning to something I enjoy. To this end, I have decided to try to address this problem. "
   ]
  },
  {
   "cell_type": "markdown",
   "metadata": {},
   "source": [
    "## Dataset\n",
    "Link to dataset source: https://www.kaggle.com/secareanualin/football-events\n",
    "\n",
    "This dataset goes beyond the simple aggregation data of Goals, Shots, Fouls, etc. This data includes information regarding events within a soccer match as well as the aggregated information so as to add context to the aggregated data of each match. The main difference in this dataset is that text commentary of the match was able to be obtained. These pieces of text allow for the classifications of 15 different types of events. The data included is from the interval of the 2011/2012 season to the 2016/2017 and contains information on games from the five biggest leagues in the world, namely the top divisions in England, Spain, France, Germany, and Italy. The dataset is organized in three files. The events.csv file contains data about the events from each game. The ginf.csv file contains metadata about each game as well as the odds from each game. Finally, dictionary.txt contains a dictionary with the textual description of each categorical variable coded with integers. The target label, which will be predicted in the expected goals calculation, is the is_goal feature that is a binary value which details if a corresponding shot resulted in a goal, 0 for no goal and 1 for a goal being the two classes. The prediction of this feature will be applied through a binary classification strategy. I will be using the events file to predict the is_goal label based on the bodypart, assist_method, situation, and fast_break features. In terms of the ginf file, I will not be using this file for my goals predictions. "
   ]
  },
  {
   "cell_type": "markdown",
   "metadata": {},
   "source": [
    "## <font color=\"red\"> Required Coding"
   ]
  },
  {
   "cell_type": "code",
   "execution_count": 1,
   "metadata": {},
   "outputs": [
    {
     "name": "stdout",
     "output_type": "stream",
     "text": [
      "(229135, 22)\n"
     ]
    }
   ],
   "source": [
    "# Import necessary Python, sklearn and/or tensorflow/keras modules\n",
    "import pandas as pd\n",
    "\n",
    "# Load the data\n",
    "events = pd.read_csv(\"football-events/events.csv\")\n",
    "# stores all the shots, shots are defined as events having event_type = 1 in the events file.\n",
    "shots = events[(events.event_type == 1)]\n",
    "\n",
    "# Print data shape via built-in methods of sklearn, pandas or tensorflow/keras (or other modules)\n",
    "print(shots.shape)"
   ]
  },
  {
   "cell_type": "code",
   "execution_count": 2,
   "metadata": {},
   "outputs": [
    {
     "data": {
      "text/html": [
       "<div>\n",
       "<style scoped>\n",
       "    .dataframe tbody tr th:only-of-type {\n",
       "        vertical-align: middle;\n",
       "    }\n",
       "\n",
       "    .dataframe tbody tr th {\n",
       "        vertical-align: top;\n",
       "    }\n",
       "\n",
       "    .dataframe thead th {\n",
       "        text-align: right;\n",
       "    }\n",
       "</style>\n",
       "<table border=\"1\" class=\"dataframe\">\n",
       "  <thead>\n",
       "    <tr style=\"text-align: right;\">\n",
       "      <th></th>\n",
       "      <th>id_odsp</th>\n",
       "      <th>id_event</th>\n",
       "      <th>sort_order</th>\n",
       "      <th>time</th>\n",
       "      <th>text</th>\n",
       "      <th>event_type</th>\n",
       "      <th>event_type2</th>\n",
       "      <th>side</th>\n",
       "      <th>event_team</th>\n",
       "      <th>opponent</th>\n",
       "      <th>...</th>\n",
       "      <th>player_in</th>\n",
       "      <th>player_out</th>\n",
       "      <th>shot_place</th>\n",
       "      <th>shot_outcome</th>\n",
       "      <th>is_goal</th>\n",
       "      <th>location</th>\n",
       "      <th>bodypart</th>\n",
       "      <th>assist_method</th>\n",
       "      <th>situation</th>\n",
       "      <th>fast_break</th>\n",
       "    </tr>\n",
       "  </thead>\n",
       "  <tbody>\n",
       "    <tr>\n",
       "      <th>0</th>\n",
       "      <td>UFot0hit/</td>\n",
       "      <td>UFot0hit1</td>\n",
       "      <td>1</td>\n",
       "      <td>2</td>\n",
       "      <td>Attempt missed. Mladen Petric (Hamburg) left f...</td>\n",
       "      <td>1</td>\n",
       "      <td>12.0</td>\n",
       "      <td>2</td>\n",
       "      <td>Hamburg SV</td>\n",
       "      <td>Borussia Dortmund</td>\n",
       "      <td>...</td>\n",
       "      <td>NaN</td>\n",
       "      <td>NaN</td>\n",
       "      <td>6.0</td>\n",
       "      <td>2.0</td>\n",
       "      <td>0</td>\n",
       "      <td>9.0</td>\n",
       "      <td>2.0</td>\n",
       "      <td>1</td>\n",
       "      <td>1.0</td>\n",
       "      <td>0</td>\n",
       "    </tr>\n",
       "    <tr>\n",
       "      <th>11</th>\n",
       "      <td>UFot0hit/</td>\n",
       "      <td>UFot0hit12</td>\n",
       "      <td>12</td>\n",
       "      <td>14</td>\n",
       "      <td>Attempt missed. Shinji Kagawa (Borussia Dortmu...</td>\n",
       "      <td>1</td>\n",
       "      <td>12.0</td>\n",
       "      <td>1</td>\n",
       "      <td>Borussia Dortmund</td>\n",
       "      <td>Hamburg SV</td>\n",
       "      <td>...</td>\n",
       "      <td>NaN</td>\n",
       "      <td>NaN</td>\n",
       "      <td>13.0</td>\n",
       "      <td>2.0</td>\n",
       "      <td>0</td>\n",
       "      <td>15.0</td>\n",
       "      <td>1.0</td>\n",
       "      <td>1</td>\n",
       "      <td>1.0</td>\n",
       "      <td>0</td>\n",
       "    </tr>\n",
       "    <tr>\n",
       "      <th>13</th>\n",
       "      <td>UFot0hit/</td>\n",
       "      <td>UFot0hit14</td>\n",
       "      <td>14</td>\n",
       "      <td>17</td>\n",
       "      <td>Goal!  Borussia Dortmund 1, Hamburg 0. Kevin G...</td>\n",
       "      <td>1</td>\n",
       "      <td>12.0</td>\n",
       "      <td>1</td>\n",
       "      <td>Borussia Dortmund</td>\n",
       "      <td>Hamburg SV</td>\n",
       "      <td>...</td>\n",
       "      <td>NaN</td>\n",
       "      <td>NaN</td>\n",
       "      <td>4.0</td>\n",
       "      <td>1.0</td>\n",
       "      <td>1</td>\n",
       "      <td>9.0</td>\n",
       "      <td>2.0</td>\n",
       "      <td>1</td>\n",
       "      <td>1.0</td>\n",
       "      <td>0</td>\n",
       "    </tr>\n",
       "    <tr>\n",
       "      <th>14</th>\n",
       "      <td>UFot0hit/</td>\n",
       "      <td>UFot0hit15</td>\n",
       "      <td>15</td>\n",
       "      <td>19</td>\n",
       "      <td>Attempt blocked. Mats Hummels (Borussia Dortmu...</td>\n",
       "      <td>1</td>\n",
       "      <td>NaN</td>\n",
       "      <td>1</td>\n",
       "      <td>Borussia Dortmund</td>\n",
       "      <td>Hamburg SV</td>\n",
       "      <td>...</td>\n",
       "      <td>NaN</td>\n",
       "      <td>NaN</td>\n",
       "      <td>2.0</td>\n",
       "      <td>3.0</td>\n",
       "      <td>0</td>\n",
       "      <td>15.0</td>\n",
       "      <td>1.0</td>\n",
       "      <td>0</td>\n",
       "      <td>1.0</td>\n",
       "      <td>0</td>\n",
       "    </tr>\n",
       "    <tr>\n",
       "      <th>17</th>\n",
       "      <td>UFot0hit/</td>\n",
       "      <td>UFot0hit18</td>\n",
       "      <td>18</td>\n",
       "      <td>20</td>\n",
       "      <td>Attempt blocked. Tomas Rincon (Hamburg) right ...</td>\n",
       "      <td>1</td>\n",
       "      <td>NaN</td>\n",
       "      <td>2</td>\n",
       "      <td>Hamburg SV</td>\n",
       "      <td>Borussia Dortmund</td>\n",
       "      <td>...</td>\n",
       "      <td>NaN</td>\n",
       "      <td>NaN</td>\n",
       "      <td>2.0</td>\n",
       "      <td>3.0</td>\n",
       "      <td>0</td>\n",
       "      <td>15.0</td>\n",
       "      <td>1.0</td>\n",
       "      <td>0</td>\n",
       "      <td>1.0</td>\n",
       "      <td>0</td>\n",
       "    </tr>\n",
       "  </tbody>\n",
       "</table>\n",
       "<p>5 rows × 22 columns</p>\n",
       "</div>"
      ],
      "text/plain": [
       "      id_odsp    id_event  sort_order  time  \\\n",
       "0   UFot0hit/   UFot0hit1           1     2   \n",
       "11  UFot0hit/  UFot0hit12          12    14   \n",
       "13  UFot0hit/  UFot0hit14          14    17   \n",
       "14  UFot0hit/  UFot0hit15          15    19   \n",
       "17  UFot0hit/  UFot0hit18          18    20   \n",
       "\n",
       "                                                 text  event_type  \\\n",
       "0   Attempt missed. Mladen Petric (Hamburg) left f...           1   \n",
       "11  Attempt missed. Shinji Kagawa (Borussia Dortmu...           1   \n",
       "13  Goal!  Borussia Dortmund 1, Hamburg 0. Kevin G...           1   \n",
       "14  Attempt blocked. Mats Hummels (Borussia Dortmu...           1   \n",
       "17  Attempt blocked. Tomas Rincon (Hamburg) right ...           1   \n",
       "\n",
       "    event_type2  side         event_team           opponent  ... player_in  \\\n",
       "0          12.0     2         Hamburg SV  Borussia Dortmund  ...       NaN   \n",
       "11         12.0     1  Borussia Dortmund         Hamburg SV  ...       NaN   \n",
       "13         12.0     1  Borussia Dortmund         Hamburg SV  ...       NaN   \n",
       "14          NaN     1  Borussia Dortmund         Hamburg SV  ...       NaN   \n",
       "17          NaN     2         Hamburg SV  Borussia Dortmund  ...       NaN   \n",
       "\n",
       "   player_out shot_place shot_outcome  is_goal  location  bodypart  \\\n",
       "0         NaN        6.0          2.0        0       9.0       2.0   \n",
       "11        NaN       13.0          2.0        0      15.0       1.0   \n",
       "13        NaN        4.0          1.0        1       9.0       2.0   \n",
       "14        NaN        2.0          3.0        0      15.0       1.0   \n",
       "17        NaN        2.0          3.0        0      15.0       1.0   \n",
       "\n",
       "    assist_method  situation  fast_break  \n",
       "0               1        1.0           0  \n",
       "11              1        1.0           0  \n",
       "13              1        1.0           0  \n",
       "14              0        1.0           0  \n",
       "17              0        1.0           0  \n",
       "\n",
       "[5 rows x 22 columns]"
      ]
     },
     "execution_count": 2,
     "metadata": {},
     "output_type": "execute_result"
    }
   ],
   "source": [
    "# Show the data head (if pandas is used)\n",
    "# If the dataset contains images or is non-pandas/non-tabular, show at least one sample of the data\n",
    "shots.head()"
   ]
  },
  {
   "cell_type": "markdown",
   "metadata": {},
   "source": [
    "## Data Preprocessing"
   ]
  },
  {
   "cell_type": "markdown",
   "metadata": {},
   "source": [
    "List any steps you have taken for preprocessing, such as cleaning, dropping NAs, dropping any redundant/irrelevant column, normalizing/scaling, etc. HERE:\n",
    "\n",
    "- Preprocessing Steps: __Converting the following features to binary dummy values: location, bodypart, assist_method, situation (fast_break and is_goal are already binary). In addition, all shots where the location was not recorded will be discarded as they will skew the performance metrics of each model.__\n",
    "<br>\n",
    "\n",
    "- Specify the details of data splitting to train/test or cross validation. Mention the ratio for splitting and number of folds for cv: __I decided to use 33% of the dataset for testing as the dataset is very large and 67% of the data being used for training will allow me to sufficiently train my models. Additionally, I used a 10 fold cross validation approach in order to analysis the performance of both Stochastic Gradient Descent classifier and my Logistic Regression classifier.__\n",
    "<br>\n"
   ]
  },
  {
   "cell_type": "markdown",
   "metadata": {},
   "source": [
    "## <font color=\"red\"> Required Coding"
   ]
  },
  {
   "cell_type": "code",
   "execution_count": 3,
   "metadata": {},
   "outputs": [],
   "source": [
    "# Import necessary preprocessing modules\n",
    "import pandas as pd\n",
    "from sklearn.model_selection import train_test_split"
   ]
  },
  {
   "cell_type": "code",
   "execution_count": 4,
   "metadata": {},
   "outputs": [
    {
     "data": {
      "text/html": [
       "<div>\n",
       "<style scoped>\n",
       "    .dataframe tbody tr th:only-of-type {\n",
       "        vertical-align: middle;\n",
       "    }\n",
       "\n",
       "    .dataframe tbody tr th {\n",
       "        vertical-align: top;\n",
       "    }\n",
       "\n",
       "    .dataframe thead th {\n",
       "        text-align: right;\n",
       "    }\n",
       "</style>\n",
       "<table border=\"1\" class=\"dataframe\">\n",
       "  <thead>\n",
       "    <tr style=\"text-align: right;\">\n",
       "      <th></th>\n",
       "      <th>id_odsp</th>\n",
       "      <th>id_event</th>\n",
       "      <th>sort_order</th>\n",
       "      <th>time</th>\n",
       "      <th>text</th>\n",
       "      <th>event_type</th>\n",
       "      <th>event_type2</th>\n",
       "      <th>side</th>\n",
       "      <th>event_team</th>\n",
       "      <th>opponent</th>\n",
       "      <th>...</th>\n",
       "      <th>player_in</th>\n",
       "      <th>player_out</th>\n",
       "      <th>shot_place</th>\n",
       "      <th>shot_outcome</th>\n",
       "      <th>is_goal</th>\n",
       "      <th>location</th>\n",
       "      <th>bodypart</th>\n",
       "      <th>assist_method</th>\n",
       "      <th>situation</th>\n",
       "      <th>fast_break</th>\n",
       "    </tr>\n",
       "  </thead>\n",
       "  <tbody>\n",
       "    <tr>\n",
       "      <th>0</th>\n",
       "      <td>UFot0hit/</td>\n",
       "      <td>UFot0hit1</td>\n",
       "      <td>1</td>\n",
       "      <td>2</td>\n",
       "      <td>Attempt missed. Mladen Petric (Hamburg) left f...</td>\n",
       "      <td>1</td>\n",
       "      <td>12.0</td>\n",
       "      <td>2</td>\n",
       "      <td>Hamburg SV</td>\n",
       "      <td>Borussia Dortmund</td>\n",
       "      <td>...</td>\n",
       "      <td>NaN</td>\n",
       "      <td>NaN</td>\n",
       "      <td>6.0</td>\n",
       "      <td>2.0</td>\n",
       "      <td>0</td>\n",
       "      <td>9.0</td>\n",
       "      <td>2.0</td>\n",
       "      <td>1</td>\n",
       "      <td>1.0</td>\n",
       "      <td>0</td>\n",
       "    </tr>\n",
       "    <tr>\n",
       "      <th>11</th>\n",
       "      <td>UFot0hit/</td>\n",
       "      <td>UFot0hit12</td>\n",
       "      <td>12</td>\n",
       "      <td>14</td>\n",
       "      <td>Attempt missed. Shinji Kagawa (Borussia Dortmu...</td>\n",
       "      <td>1</td>\n",
       "      <td>12.0</td>\n",
       "      <td>1</td>\n",
       "      <td>Borussia Dortmund</td>\n",
       "      <td>Hamburg SV</td>\n",
       "      <td>...</td>\n",
       "      <td>NaN</td>\n",
       "      <td>NaN</td>\n",
       "      <td>13.0</td>\n",
       "      <td>2.0</td>\n",
       "      <td>0</td>\n",
       "      <td>15.0</td>\n",
       "      <td>1.0</td>\n",
       "      <td>1</td>\n",
       "      <td>1.0</td>\n",
       "      <td>0</td>\n",
       "    </tr>\n",
       "    <tr>\n",
       "      <th>13</th>\n",
       "      <td>UFot0hit/</td>\n",
       "      <td>UFot0hit14</td>\n",
       "      <td>14</td>\n",
       "      <td>17</td>\n",
       "      <td>Goal!  Borussia Dortmund 1, Hamburg 0. Kevin G...</td>\n",
       "      <td>1</td>\n",
       "      <td>12.0</td>\n",
       "      <td>1</td>\n",
       "      <td>Borussia Dortmund</td>\n",
       "      <td>Hamburg SV</td>\n",
       "      <td>...</td>\n",
       "      <td>NaN</td>\n",
       "      <td>NaN</td>\n",
       "      <td>4.0</td>\n",
       "      <td>1.0</td>\n",
       "      <td>1</td>\n",
       "      <td>9.0</td>\n",
       "      <td>2.0</td>\n",
       "      <td>1</td>\n",
       "      <td>1.0</td>\n",
       "      <td>0</td>\n",
       "    </tr>\n",
       "    <tr>\n",
       "      <th>14</th>\n",
       "      <td>UFot0hit/</td>\n",
       "      <td>UFot0hit15</td>\n",
       "      <td>15</td>\n",
       "      <td>19</td>\n",
       "      <td>Attempt blocked. Mats Hummels (Borussia Dortmu...</td>\n",
       "      <td>1</td>\n",
       "      <td>NaN</td>\n",
       "      <td>1</td>\n",
       "      <td>Borussia Dortmund</td>\n",
       "      <td>Hamburg SV</td>\n",
       "      <td>...</td>\n",
       "      <td>NaN</td>\n",
       "      <td>NaN</td>\n",
       "      <td>2.0</td>\n",
       "      <td>3.0</td>\n",
       "      <td>0</td>\n",
       "      <td>15.0</td>\n",
       "      <td>1.0</td>\n",
       "      <td>0</td>\n",
       "      <td>1.0</td>\n",
       "      <td>0</td>\n",
       "    </tr>\n",
       "    <tr>\n",
       "      <th>17</th>\n",
       "      <td>UFot0hit/</td>\n",
       "      <td>UFot0hit18</td>\n",
       "      <td>18</td>\n",
       "      <td>20</td>\n",
       "      <td>Attempt blocked. Tomas Rincon (Hamburg) right ...</td>\n",
       "      <td>1</td>\n",
       "      <td>NaN</td>\n",
       "      <td>2</td>\n",
       "      <td>Hamburg SV</td>\n",
       "      <td>Borussia Dortmund</td>\n",
       "      <td>...</td>\n",
       "      <td>NaN</td>\n",
       "      <td>NaN</td>\n",
       "      <td>2.0</td>\n",
       "      <td>3.0</td>\n",
       "      <td>0</td>\n",
       "      <td>15.0</td>\n",
       "      <td>1.0</td>\n",
       "      <td>0</td>\n",
       "      <td>1.0</td>\n",
       "      <td>0</td>\n",
       "    </tr>\n",
       "  </tbody>\n",
       "</table>\n",
       "<p>5 rows × 22 columns</p>\n",
       "</div>"
      ],
      "text/plain": [
       "      id_odsp    id_event  sort_order  time  \\\n",
       "0   UFot0hit/   UFot0hit1           1     2   \n",
       "11  UFot0hit/  UFot0hit12          12    14   \n",
       "13  UFot0hit/  UFot0hit14          14    17   \n",
       "14  UFot0hit/  UFot0hit15          15    19   \n",
       "17  UFot0hit/  UFot0hit18          18    20   \n",
       "\n",
       "                                                 text  event_type  \\\n",
       "0   Attempt missed. Mladen Petric (Hamburg) left f...           1   \n",
       "11  Attempt missed. Shinji Kagawa (Borussia Dortmu...           1   \n",
       "13  Goal!  Borussia Dortmund 1, Hamburg 0. Kevin G...           1   \n",
       "14  Attempt blocked. Mats Hummels (Borussia Dortmu...           1   \n",
       "17  Attempt blocked. Tomas Rincon (Hamburg) right ...           1   \n",
       "\n",
       "    event_type2  side         event_team           opponent  ... player_in  \\\n",
       "0          12.0     2         Hamburg SV  Borussia Dortmund  ...       NaN   \n",
       "11         12.0     1  Borussia Dortmund         Hamburg SV  ...       NaN   \n",
       "13         12.0     1  Borussia Dortmund         Hamburg SV  ...       NaN   \n",
       "14          NaN     1  Borussia Dortmund         Hamburg SV  ...       NaN   \n",
       "17          NaN     2         Hamburg SV  Borussia Dortmund  ...       NaN   \n",
       "\n",
       "   player_out shot_place shot_outcome  is_goal  location  bodypart  \\\n",
       "0         NaN        6.0          2.0        0       9.0       2.0   \n",
       "11        NaN       13.0          2.0        0      15.0       1.0   \n",
       "13        NaN        4.0          1.0        1       9.0       2.0   \n",
       "14        NaN        2.0          3.0        0      15.0       1.0   \n",
       "17        NaN        2.0          3.0        0      15.0       1.0   \n",
       "\n",
       "    assist_method  situation  fast_break  \n",
       "0               1        1.0           0  \n",
       "11              1        1.0           0  \n",
       "13              1        1.0           0  \n",
       "14              0        1.0           0  \n",
       "17              0        1.0           0  \n",
       "\n",
       "[5 rows x 22 columns]"
      ]
     },
     "execution_count": 4,
     "metadata": {},
     "output_type": "execute_result"
    }
   ],
   "source": [
    "# Data Preprocessing code here\n",
    "\n",
    "#drop all columns where location was not recorded\n",
    "shots = shots[pd.notnull(shots['location'])]\n",
    "shots.head()"
   ]
  },
  {
   "cell_type": "code",
   "execution_count": 5,
   "metadata": {},
   "outputs": [
    {
     "data": {
      "text/html": [
       "<div>\n",
       "<style scoped>\n",
       "    .dataframe tbody tr th:only-of-type {\n",
       "        vertical-align: middle;\n",
       "    }\n",
       "\n",
       "    .dataframe tbody tr th {\n",
       "        vertical-align: top;\n",
       "    }\n",
       "\n",
       "    .dataframe thead th {\n",
       "        text-align: right;\n",
       "    }\n",
       "</style>\n",
       "<table border=\"1\" class=\"dataframe\">\n",
       "  <thead>\n",
       "    <tr style=\"text-align: right;\">\n",
       "      <th></th>\n",
       "      <th>is_goal</th>\n",
       "      <th>fast_break</th>\n",
       "      <th>loc_centre_box</th>\n",
       "      <th>loc_diff_angle_lr</th>\n",
       "      <th>diff_angle_left</th>\n",
       "      <th>diff_angle_right</th>\n",
       "      <th>left_side_box</th>\n",
       "      <th>left_side_6ybox</th>\n",
       "      <th>right_side_box</th>\n",
       "      <th>right_side_6ybox</th>\n",
       "      <th>...</th>\n",
       "      <th>header</th>\n",
       "      <th>no_assist</th>\n",
       "      <th>assist_pass</th>\n",
       "      <th>assist_cross</th>\n",
       "      <th>assist_header</th>\n",
       "      <th>assist_through_ball</th>\n",
       "      <th>open_play</th>\n",
       "      <th>set_piece</th>\n",
       "      <th>corner</th>\n",
       "      <th>free_kick</th>\n",
       "    </tr>\n",
       "  </thead>\n",
       "  <tbody>\n",
       "    <tr>\n",
       "      <th>0</th>\n",
       "      <td>0</td>\n",
       "      <td>0</td>\n",
       "      <td>0</td>\n",
       "      <td>0</td>\n",
       "      <td>0</td>\n",
       "      <td>0</td>\n",
       "      <td>1</td>\n",
       "      <td>0</td>\n",
       "      <td>0</td>\n",
       "      <td>0</td>\n",
       "      <td>...</td>\n",
       "      <td>0</td>\n",
       "      <td>0</td>\n",
       "      <td>1</td>\n",
       "      <td>0</td>\n",
       "      <td>0</td>\n",
       "      <td>0</td>\n",
       "      <td>1</td>\n",
       "      <td>0</td>\n",
       "      <td>0</td>\n",
       "      <td>0</td>\n",
       "    </tr>\n",
       "    <tr>\n",
       "      <th>11</th>\n",
       "      <td>0</td>\n",
       "      <td>0</td>\n",
       "      <td>0</td>\n",
       "      <td>0</td>\n",
       "      <td>0</td>\n",
       "      <td>0</td>\n",
       "      <td>0</td>\n",
       "      <td>0</td>\n",
       "      <td>0</td>\n",
       "      <td>0</td>\n",
       "      <td>...</td>\n",
       "      <td>0</td>\n",
       "      <td>0</td>\n",
       "      <td>1</td>\n",
       "      <td>0</td>\n",
       "      <td>0</td>\n",
       "      <td>0</td>\n",
       "      <td>1</td>\n",
       "      <td>0</td>\n",
       "      <td>0</td>\n",
       "      <td>0</td>\n",
       "    </tr>\n",
       "    <tr>\n",
       "      <th>13</th>\n",
       "      <td>1</td>\n",
       "      <td>0</td>\n",
       "      <td>0</td>\n",
       "      <td>0</td>\n",
       "      <td>0</td>\n",
       "      <td>0</td>\n",
       "      <td>1</td>\n",
       "      <td>0</td>\n",
       "      <td>0</td>\n",
       "      <td>0</td>\n",
       "      <td>...</td>\n",
       "      <td>0</td>\n",
       "      <td>0</td>\n",
       "      <td>1</td>\n",
       "      <td>0</td>\n",
       "      <td>0</td>\n",
       "      <td>0</td>\n",
       "      <td>1</td>\n",
       "      <td>0</td>\n",
       "      <td>0</td>\n",
       "      <td>0</td>\n",
       "    </tr>\n",
       "    <tr>\n",
       "      <th>14</th>\n",
       "      <td>0</td>\n",
       "      <td>0</td>\n",
       "      <td>0</td>\n",
       "      <td>0</td>\n",
       "      <td>0</td>\n",
       "      <td>0</td>\n",
       "      <td>0</td>\n",
       "      <td>0</td>\n",
       "      <td>0</td>\n",
       "      <td>0</td>\n",
       "      <td>...</td>\n",
       "      <td>0</td>\n",
       "      <td>1</td>\n",
       "      <td>0</td>\n",
       "      <td>0</td>\n",
       "      <td>0</td>\n",
       "      <td>0</td>\n",
       "      <td>1</td>\n",
       "      <td>0</td>\n",
       "      <td>0</td>\n",
       "      <td>0</td>\n",
       "    </tr>\n",
       "    <tr>\n",
       "      <th>17</th>\n",
       "      <td>0</td>\n",
       "      <td>0</td>\n",
       "      <td>0</td>\n",
       "      <td>0</td>\n",
       "      <td>0</td>\n",
       "      <td>0</td>\n",
       "      <td>0</td>\n",
       "      <td>0</td>\n",
       "      <td>0</td>\n",
       "      <td>0</td>\n",
       "      <td>...</td>\n",
       "      <td>0</td>\n",
       "      <td>1</td>\n",
       "      <td>0</td>\n",
       "      <td>0</td>\n",
       "      <td>0</td>\n",
       "      <td>0</td>\n",
       "      <td>1</td>\n",
       "      <td>0</td>\n",
       "      <td>0</td>\n",
       "      <td>0</td>\n",
       "    </tr>\n",
       "  </tbody>\n",
       "</table>\n",
       "<p>5 rows × 28 columns</p>\n",
       "</div>"
      ],
      "text/plain": [
       "    is_goal  fast_break  loc_centre_box  loc_diff_angle_lr  diff_angle_left  \\\n",
       "0         0           0               0                  0                0   \n",
       "11        0           0               0                  0                0   \n",
       "13        1           0               0                  0                0   \n",
       "14        0           0               0                  0                0   \n",
       "17        0           0               0                  0                0   \n",
       "\n",
       "    diff_angle_right  left_side_box  left_side_6ybox  right_side_box  \\\n",
       "0                  0              1                0               0   \n",
       "11                 0              0                0               0   \n",
       "13                 0              1                0               0   \n",
       "14                 0              0                0               0   \n",
       "17                 0              0                0               0   \n",
       "\n",
       "    right_side_6ybox  ...  header  no_assist  assist_pass  assist_cross  \\\n",
       "0                  0  ...       0          0            1             0   \n",
       "11                 0  ...       0          0            1             0   \n",
       "13                 0  ...       0          0            1             0   \n",
       "14                 0  ...       0          1            0             0   \n",
       "17                 0  ...       0          1            0             0   \n",
       "\n",
       "    assist_header  assist_through_ball  open_play  set_piece  corner  \\\n",
       "0               0                    0          1          0       0   \n",
       "11              0                    0          1          0       0   \n",
       "13              0                    0          1          0       0   \n",
       "14              0                    0          1          0       0   \n",
       "17              0                    0          1          0       0   \n",
       "\n",
       "    free_kick  \n",
       "0           0  \n",
       "11          0  \n",
       "13          0  \n",
       "14          0  \n",
       "17          0  \n",
       "\n",
       "[5 rows x 28 columns]"
      ]
     },
     "execution_count": 5,
     "metadata": {},
     "output_type": "execute_result"
    }
   ],
   "source": [
    "#gets all the rows of the last 6 features of the shots data. \n",
    "shots_pred = shots.iloc[:,-6:]\n",
    "temp = pd.get_dummies(shots_pred, columns=['location', 'bodypart','assist_method', 'situation'])\n",
    "# drop the column corresponding to location NA value.\n",
    "situation = temp.drop(columns = \"location_19.0\")\n",
    "# includes all possible values of every feature that we are converting to binary values. \n",
    "situation.columns = ['is_goal', 'fast_break', 'loc_centre_box', 'loc_diff_angle_lr', 'diff_angle_left', 'diff_angle_right', 'left_side_box', 'left_side_6ybox', 'right_side_box', 'right_side_6ybox', 'close_range', 'penalty', 'outside_box', 'long_range', 'more_35y', 'more_40y', 'right_foot', 'left_foot', 'header', 'no_assist', 'assist_pass', 'assist_cross', 'assist_header', 'assist_through_ball', 'open_play', 'set_piece', 'corner', 'free_kick']\n",
    "# data is ready to use\n",
    "situation.head()"
   ]
  },
  {
   "cell_type": "code",
   "execution_count": 20,
   "metadata": {},
   "outputs": [
    {
     "name": "stdout",
     "output_type": "stream",
     "text": [
      "(229135, 27)\n",
      "(229135,)\n"
     ]
    }
   ],
   "source": [
    "# X contains all features except 'is_goal'\n",
    "# y contains only 'is_goal'\n",
    "X = situation.drop(columns = 'is_goal')\n",
    "y = situation.is_goal\n",
    "\n",
    "print(X.shape)\n",
    "print(y.shape)"
   ]
  },
  {
   "cell_type": "code",
   "execution_count": 21,
   "metadata": {},
   "outputs": [
    {
     "name": "stdout",
     "output_type": "stream",
     "text": [
      "(153520, 27)\n",
      "(153520,)\n",
      "(75615, 27)\n",
      "(75615,)\n"
     ]
    }
   ],
   "source": [
    "# Split to train/test sets code here (if applicable)\n",
    "X_train, X_test, y_train, y_test = train_test_split(\n",
    "    X, y, test_size = 0.33, random_state = 42\n",
    ")\n",
    "\n",
    "print(X_train.shape)\n",
    "print(y_train.shape)\n",
    "print(X_test.shape)\n",
    "print(y_test.shape)"
   ]
  },
  {
   "cell_type": "markdown",
   "metadata": {},
   "source": [
    "## Methods\n",
    "\n",
    "List your sklearn and tensorflow methods HERE:\n",
    "\n",
    "1- Sklearn Method No.1: Stoichastic Gradient Descent \n",
    "\n",
    "2- Sklearn Method No.2: Logistic Regression\n",
    "\n",
    "3- Tensorflow Method: Neural Network\n",
    "\n",
    "Individual students need to work with 2 sklearn methods and 1 tensorflow method.\n",
    "\n",
    "<b>Notice:</b> You should fine-tune at least one hyperparameter of each method by using multiple values (at least 3 different values)."
   ]
  },
  {
   "cell_type": "markdown",
   "metadata": {},
   "source": [
    "## <font color=\"red\"> Required Coding"
   ]
  },
  {
   "cell_type": "code",
   "execution_count": 22,
   "metadata": {},
   "outputs": [],
   "source": [
    "# Import any necessary method/algorithm modules from sklearn and tf/keras here\n",
    "from sklearn.linear_model import SGDClassifier\n",
    "from sklearn.linear_model import LogisticRegression\n",
    "from sklearn.model_selection import cross_val_score\n",
    "import sklearn.metrics as metrics"
   ]
  },
  {
   "cell_type": "code",
   "execution_count": 23,
   "metadata": {
    "scrolled": true
   },
   "outputs": [
    {
     "name": "stdout",
     "output_type": "stream",
     "text": [
      "Mean AUC Score - Stochastic Gradient Descent:  0.8154427815687132\n",
      "Mean Accuracy Score - Stochastic Gradient Descent 0.9100879399184805\n",
      "fast_break              1.712896\n",
      "loc_centre_box         -8.680460\n",
      "loc_diff_angle_lr     -10.657706\n",
      "diff_angle_left        -9.709066\n",
      "diff_angle_right       -9.747931\n",
      "left_side_box          -9.968404\n",
      "left_side_6ybox        -8.312016\n",
      "right_side_box         -9.926017\n",
      "right_side_6ybox       -8.303958\n",
      "close_range            -6.900789\n",
      "penalty                -6.598115\n",
      "outside_box           -10.716205\n",
      "long_range            -11.179628\n",
      "more_35y              -11.630701\n",
      "more_40y              -11.068590\n",
      "right_foot              1.455668\n",
      "left_foot               1.400423\n",
      "header                  0.842979\n",
      "no_assist               0.649937\n",
      "assist_pass             0.708540\n",
      "assist_cross            0.277095\n",
      "assist_header           0.456776\n",
      "assist_through_ball     1.606722\n",
      "open_play               1.255635\n",
      "set_piece               2.035173\n",
      "corner                  1.760361\n",
      "free_kick              -1.352099\n",
      "dtype: float64\n"
     ]
    }
   ],
   "source": [
    "# Sklearn Method 1 code here\n",
    "\n",
    "sgd_clf = SGDClassifier(loss=\"log\", random_state = 42, alpha = .0001, penalty = \"none\")\n",
    "sgd_cv_score = cross_val_score(sgd_clf, X, y, scoring = 'roc_auc', cv = 10)\n",
    "sgd_acc_score = cross_val_score(sgd_clf, X, y, scoring = 'accuracy', cv = 10)\n",
    "\n",
    "print(\"Mean AUC Score - Stochastic Gradient Descent: \", sgd_cv_score.mean())\n",
    "print(\"Mean Accuracy Score - Stochastic Gradient Descent\", sgd_acc_score.mean())\n",
    "\n",
    "# Fit the sgd_clf on the training set\n",
    "sgd_clf.fit(X_train,y_train)\n",
    "\n",
    "# used for discussion, shows the situations most likely to be goals based on the model.\n",
    "scores = pd.Series(logreg_clf.coef_[0], X_train.columns)\n",
    "print(scores)\n",
    "\n",
    "#used for ROC plot\n",
    "sgd_preds = sgd_clf.decision_function(X_test)\n",
    "sgd_fpr, sgd_tpr, sgd_threshold = metrics.roc_curve(y_test, sgd_preds)\n",
    "sgd_roc_auc = metrics.auc(sgd_fpr, sgd_tpr)"
   ]
  },
  {
   "cell_type": "code",
   "execution_count": 24,
   "metadata": {},
   "outputs": [
    {
     "name": "stdout",
     "output_type": "stream",
     "text": [
      "Mean AUC Score - Logistic Regression:  0.8160891966385424\n",
      "Mean Accuracy Score - Logistic Regression 0.9104894493741973\n",
      "fast_break              1.719123\n",
      "loc_centre_box         -9.102040\n",
      "loc_diff_angle_lr     -11.059504\n",
      "diff_angle_left       -10.119383\n",
      "diff_angle_right      -10.167554\n",
      "left_side_box         -10.368081\n",
      "left_side_6ybox        -8.736926\n",
      "right_side_box        -10.336620\n",
      "right_side_6ybox       -8.745504\n",
      "close_range            -7.314585\n",
      "penalty                -7.019023\n",
      "outside_box           -11.151309\n",
      "long_range            -11.601517\n",
      "more_35y              -12.230907\n",
      "more_40y              -11.665958\n",
      "right_foot              1.526313\n",
      "left_foot               1.476611\n",
      "header                  0.897157\n",
      "no_assist               0.698114\n",
      "assist_pass             0.746251\n",
      "assist_cross            0.327597\n",
      "assist_header           0.500237\n",
      "assist_through_ball     1.627882\n",
      "open_play               1.354368\n",
      "set_piece               2.141690\n",
      "corner                  1.859798\n",
      "free_kick              -1.455775\n",
      "dtype: float64\n"
     ]
    }
   ],
   "source": [
    "# Sklearn Method 2 code here \n",
    "\n",
    "logreg_clf = LogisticRegression(random_state = 42, solver = 'sag', C = 10000, max_iter = 150, penalty= 'l2')\n",
    "logreg_cv_score = cross_val_score(logreg_clf, X, y, scoring = 'roc_auc', cv = 10)\n",
    "logreg_acc_score = cross_val_score(logreg_clf, X, y, scoring = 'accuracy', cv = 10)\n",
    "\n",
    "print(\"Mean AUC Score - Logistic Regression: \", logreg_cv_score.mean())\n",
    "print(\"Mean Accuracy Score - Logistic Regression\", logreg_acc_score.mean())\n",
    "\n",
    "logreg_clf.fit(X_train,y_train)\n",
    "\n",
    "# used for discussion\n",
    "scores = pd.Series(logreg_clf.coef_[0], X_train.columns)\n",
    "print(scores)\n",
    "\n",
    "#used for ROC plot\n",
    "logreg_probs = logreg_clf.predict_proba(X_test)\n",
    "logreg_preds = logreg_probs[:,1]\n",
    "logreg_fpr, logreg_tpr, logreg_threshold = metrics.roc_curve(y_test, logreg_preds)\n",
    "logreg_roc_auc = metrics.auc(logreg_fpr, logreg_tpr)"
   ]
  },
  {
   "cell_type": "code",
   "execution_count": 25,
   "metadata": {},
   "outputs": [
    {
     "name": "stdout",
     "output_type": "stream",
     "text": [
      "Epoch 1/25\n",
      "1536/1536 [==============================] - 14s 9ms/step - loss: 0.2849 - AUC: 0.7794 - accuracy: 0.9015\n",
      "Epoch 2/25\n",
      "1536/1536 [==============================] - 8s 5ms/step - loss: 0.2610 - AUC: 0.8129 - accuracy: 0.9103\n",
      "Epoch 3/25\n",
      "1536/1536 [==============================] - 8s 5ms/step - loss: 0.2596 - AUC: 0.8141 - accuracy: 0.9106\n",
      "Epoch 4/25\n",
      "1536/1536 [==============================] - 8s 5ms/step - loss: 0.2590 - AUC: 0.8148 - accuracy: 0.9104\n",
      "Epoch 5/25\n",
      "1536/1536 [==============================] - 8s 5ms/step - loss: 0.2588 - AUC: 0.8147 - accuracy: 0.9106\n",
      "Epoch 6/25\n",
      "1536/1536 [==============================] - 7s 5ms/step - loss: 0.2587 - AUC: 0.8152 - accuracy: 0.9106\n",
      "Epoch 7/25\n",
      "1536/1536 [==============================] - 7s 5ms/step - loss: 0.2585 - AUC: 0.8154 - accuracy: 0.9106\n",
      "Epoch 8/25\n",
      "1536/1536 [==============================] - 8s 5ms/step - loss: 0.2584 - AUC: 0.8152 - accuracy: 0.9106\n",
      "Epoch 9/25\n",
      "1536/1536 [==============================] - 8s 5ms/step - loss: 0.2584 - AUC: 0.8152 - accuracy: 0.9108\n",
      "Epoch 10/25\n",
      "1536/1536 [==============================] - 8s 5ms/step - loss: 0.2583 - AUC: 0.8154 - accuracy: 0.9108\n",
      "Epoch 11/25\n",
      "1536/1536 [==============================] - 8s 5ms/step - loss: 0.2583 - AUC: 0.8156 - accuracy: 0.9105\n",
      "Epoch 12/25\n",
      "1536/1536 [==============================] - 8s 5ms/step - loss: 0.2582 - AUC: 0.8156 - accuracy: 0.9108\n",
      "Epoch 13/25\n",
      "1536/1536 [==============================] - 8s 5ms/step - loss: 0.2582 - AUC: 0.8158 - accuracy: 0.9108\n",
      "Epoch 14/25\n",
      "1536/1536 [==============================] - 8s 5ms/step - loss: 0.2582 - AUC: 0.8156 - accuracy: 0.9107\n",
      "Epoch 15/25\n",
      "1536/1536 [==============================] - 8s 5ms/step - loss: 0.2581 - AUC: 0.8157 - accuracy: 0.9109\n",
      "Epoch 16/25\n",
      "1536/1536 [==============================] - 8s 5ms/step - loss: 0.2580 - AUC: 0.8161 - accuracy: 0.9108\n",
      "Epoch 17/25\n",
      "1536/1536 [==============================] - 8s 5ms/step - loss: 0.2581 - AUC: 0.8154 - accuracy: 0.9110\n",
      "Epoch 18/25\n",
      "1536/1536 [==============================] - 8s 5ms/step - loss: 0.2580 - AUC: 0.8160 - accuracy: 0.9109\n",
      "Epoch 19/25\n",
      "1536/1536 [==============================] - 8s 5ms/step - loss: 0.2580 - AUC: 0.8164 - accuracy: 0.9107\n",
      "Epoch 20/25\n",
      "1536/1536 [==============================] - 7s 4ms/step - loss: 0.2579 - AUC: 0.8161 - accuracy: 0.9109\n",
      "Epoch 21/25\n",
      "1536/1536 [==============================] - 8s 5ms/step - loss: 0.2580 - AUC: 0.8160 - accuracy: 0.9108\n",
      "Epoch 22/25\n",
      "1536/1536 [==============================] - 7s 5ms/step - loss: 0.2579 - AUC: 0.8164 - accuracy: 0.9109\n",
      "Epoch 23/25\n",
      "1536/1536 [==============================] - 8s 5ms/step - loss: 0.2578 - AUC: 0.8162 - accuracy: 0.9110\n",
      "Epoch 24/25\n",
      "1536/1536 [==============================] - 6s 4ms/step - loss: 0.2579 - AUC: 0.8160 - accuracy: 0.9107\n",
      "Epoch 25/25\n",
      "1536/1536 [==============================] - 6s 4ms/step - loss: 0.2578 - AUC: 0.8166 - accuracy: 0.9107\n",
      "757/757 [==============================] - 3s 4ms/step - loss: 0.2599 - AUC: 0.8177 - accuracy: 0.9086\n"
     ]
    },
    {
     "data": {
      "text/plain": [
       "[0.2599385587530533, 0.8176899, 0.9086028]"
      ]
     },
     "execution_count": 25,
     "metadata": {},
     "output_type": "execute_result"
    }
   ],
   "source": [
    "# Tensorflow/keras Method code here\n",
    "import tensorflow as tf\n",
    "\n",
    "# Load train and test data to tf\n",
    "train_tensor = tf.data.Dataset.from_tensor_slices((X_train.values, y_train.values))\n",
    "test_tensor = tf.data.Dataset.from_tensor_slices((X_test.values, y_test.values))\n",
    "\n",
    "# Batch train and test data - 100 as the batch size\n",
    "train_batch = train_tensor.shuffle(len(X_train)).batch(100)\n",
    "test_batch = test_tensor.shuffle(len(X_test)).batch(100)\n",
    "\n",
    "# Build a Sequential neural network - a binary classifier model with 3 hidden layers\n",
    "nn_clf = tf.keras.Sequential([\n",
    "    tf.keras.layers.Dense(12, input_dim = 27, activation = 'relu'),\n",
    "    tf.keras.layers.Dense(8, activation = 'relu'),\n",
    "    tf.keras.layers.Dense(8, activation = 'relu'),\n",
    "    tf.keras.layers.Dense(8, activation = 'relu'),\n",
    "    tf.keras.layers.Dense(1, activation = 'sigmoid')\n",
    "])\n",
    "\n",
    "optimizer = tf.keras.optimizers.Adam(.001)\n",
    "nn_clf.compile(loss='binary_crossentropy', optimizer=optimizer, metrics=['AUC', 'accuracy'])\n",
    "\n",
    "# Fit nn_clf model on train_batch with 150 epochs\n",
    "nn_clf_history = nn_clf.fit(train_batch, epochs = 25)\n",
    "\n",
    "# Evaluate the model on the Test_batch \n",
    "nn_clf.evaluate(test_batch)"
   ]
  },
  {
   "cell_type": "code",
   "execution_count": 26,
   "metadata": {},
   "outputs": [
    {
     "name": "stdout",
     "output_type": "stream",
     "text": [
      "Mean Accuracy  - Neural Network 0.910352\n",
      "Mean AUC  - Neural Network 0.81406987\n",
      "WARNING:tensorflow:Falling back from v2 loop because of error: Failed to find data adapter that can handle input: <class 'pandas.core.frame.DataFrame'>, <class 'NoneType'>\n"
     ]
    },
    {
     "data": {
      "image/png": "[encoded data removed]",
      "text/plain": [
       "<Figure size 720x360 with 1 Axes>"
      ]
     },
     "metadata": {
      "needs_background": "light"
     },
     "output_type": "display_data"
    }
   ],
   "source": [
    "# Method 3 Plot\n",
    "import matplotlib.pyplot as plt\n",
    "%matplotlib inline\n",
    "import statistics\n",
    "\n",
    "# plots the history\n",
    "pd.DataFrame(nn_clf_history.history).plot(figsize=(10, 5))\n",
    "plt.grid(True)\n",
    "# set the y-axis range to [0-1]\n",
    "plt.gca().set_ylim(0, 1)\n",
    "\n",
    "print(\"Mean Accuracy  - Neural Network\", statistics.mean(nn_clf_history.history['accuracy']))\n",
    "print(\"Mean AUC  - Neural Network\", statistics.mean(nn_clf_history.history['AUC']))\n",
    "\n",
    "# Used for ROC curve\n",
    "# Get class probabilities for nn - ignore the warning\n",
    "nn_preds = nn_clf.predict(X_test).ravel()\n",
    "# See class probabilities predicted by nn classifier\n",
    "nn_preds[:5]\n",
    "nn_fpr, nn_tpr, nn_threshold = metrics.roc_curve(y_test, nn_preds)\n",
    "nn_roc_auc = metrics.auc(nn_fpr, nn_tpr)"
   ]
  },
  {
   "cell_type": "code",
   "execution_count": 27,
   "metadata": {},
   "outputs": [],
   "source": [
    "# import necessary modules for hyperparameter tuning\n",
    "import parfit.parfit as pf\n",
    "from sklearn.model_selection import ParameterGrid\n",
    "from sklearn.metrics import roc_auc_score"
   ]
  },
  {
   "cell_type": "code",
   "execution_count": 28,
   "metadata": {
    "scrolled": true
   },
   "outputs": [
    {
     "name": "stdout",
     "output_type": "stream",
     "text": [
      "-------------FITTING MODELS-------------\n",
      "-------------SCORING MODELS-------------\n"
     ]
    },
    {
     "data": {
      "image/png": "[encoded data removed]",
      "text/plain": [
       "<Figure size 792x792 with 3 Axes>"
      ]
     },
     "metadata": {
      "needs_background": "light"
     },
     "output_type": "display_data"
    },
    {
     "name": "stdout",
     "output_type": "stream",
     "text": [
      "SGDClassifier(alpha=0.0001, average=False, class_weight=None,\n",
      "              early_stopping=False, epsilon=0.1, eta0=0.0, fit_intercept=True,\n",
      "              l1_ratio=0.15, learning_rate='optimal', loss='log', max_iter=1000,\n",
      "              n_iter_no_change=5, n_jobs=-1, penalty='none', power_t=0.5,\n",
      "              random_state=None, shuffle=True, tol=0.001,\n",
      "              validation_fraction=0.1, verbose=0, warm_start=False) 0.8168948813874699\n"
     ]
    }
   ],
   "source": [
    "# Hyperparameter tuning code here\n",
    "\n",
    "# Method 1 Hyperparameter Tuning\n",
    "grid = {\n",
    "    'alpha': [1e-8, 1e-7, 1e-6, 1e-5, 1e-4, 1e-3, 1e-2, 1e-1], # learning rate being tuned\n",
    "    'loss': ['log', 'hinge'], \n",
    "    'penalty': ['l2', 'l1', 'elasticnet', 'none'],\n",
    "    'n_jobs': [-1]\n",
    "}\n",
    "paramGrid = ParameterGrid(grid)\n",
    "\n",
    "bestModel1, bestScore1, allModels, allScores = pf.bestFit(SGDClassifier, paramGrid,\n",
    "           X_train, y_train, X_test, y_test, \n",
    "           metric = roc_auc_score, scoreLabel = \"AUC\", verbose = 0)\n",
    "\n",
    "print(bestModel1, bestScore1)"
   ]
  },
  {
   "cell_type": "code",
   "execution_count": 34,
   "metadata": {},
   "outputs": [
    {
     "name": "stdout",
     "output_type": "stream",
     "text": [
      "-------------FITTING MODELS-------------\n",
      "-------------SCORING MODELS-------------\n"
     ]
    },
    {
     "data": {
      "image/png": "[encoded data removed]",
      "text/plain": [
       "<Figure size 144x576 with 2 Axes>"
      ]
     },
     "metadata": {
      "needs_background": "light"
     },
     "output_type": "display_data"
    },
    {
     "name": "stdout",
     "output_type": "stream",
     "text": [
      "LogisticRegression(C=10000.0, class_weight=None, dual=False, fit_intercept=True,\n",
      "                   intercept_scaling=1, l1_ratio=None, max_iter=150,\n",
      "                   multi_class='warn', n_jobs=-1, penalty='l2',\n",
      "                   random_state=None, solver='sag', tol=0.0001, verbose=0,\n",
      "                   warm_start=False) 0.8168263051789456\n"
     ]
    }
   ],
   "source": [
    "# Method 2 Hyperparameter Tuning\n",
    "\n",
    "grid = {\n",
    "    'C': [1e-4, 1e-3, 1e-2, 1e-1, 1e0, 1e1, 1e2, 1e3, 1e4, 1e5], # learning being tuned\n",
    "    'penalty': ['l2'],\n",
    "    'solver': ['sag'], \n",
    "    'n_jobs': [-1],\n",
    "    'max_iter': [150, 200, 250] # also being tuned\n",
    "}\n",
    "paramGrid = ParameterGrid(grid)\n",
    "\n",
    "bestModel2, bestScore2, allModels, allScores = pf.bestFit(LogisticRegression, paramGrid,\n",
    "           X_train, y_train, X_test, y_test, \n",
    "           metric = roc_auc_score, scoreLabel = \"AUC\", verbose = 0)\n",
    "\n",
    "print(bestModel2, bestScore2)"
   ]
  },
  {
   "cell_type": "code",
   "execution_count": 30,
   "metadata": {},
   "outputs": [],
   "source": [
    "# list for Method 3 Tuning plot\n",
    "tune_AUC = []"
   ]
  },
  {
   "cell_type": "code",
   "execution_count": 37,
   "metadata": {},
   "outputs": [
    {
     "name": "stdout",
     "output_type": "stream",
     "text": [
      "Epoch 1/25\n",
      "1536/1536 [==============================] - 14s 9ms/step - loss: 0.3453 - AUC: 0.5028 - accuracy: 0.8929\n",
      "Epoch 2/25\n",
      "1536/1536 [==============================] - 8s 5ms/step - loss: 0.3462 - AUC: 0.5002 - accuracy: 0.8934\n",
      "Epoch 3/25\n",
      "1536/1536 [==============================] - 8s 5ms/step - loss: 0.3453 - AUC: 0.5014 - accuracy: 0.8934\n",
      "Epoch 4/25\n",
      "1536/1536 [==============================] - 8s 5ms/step - loss: 0.3455 - AUC: 0.4948 - accuracy: 0.8934\n",
      "Epoch 5/25\n",
      "1536/1536 [==============================] - 8s 5ms/step - loss: 0.3446 - AUC: 0.4981 - accuracy: 0.8934\n",
      "Epoch 6/25\n",
      "1536/1536 [==============================] - 8s 5ms/step - loss: 0.3443 - AUC: 0.5054 - accuracy: 0.8934\n",
      "Epoch 7/25\n",
      "1536/1536 [==============================] - 8s 5ms/step - loss: 0.3448 - AUC: 0.5020 - accuracy: 0.8934\n",
      "Epoch 8/25\n",
      "1536/1536 [==============================] - 8s 5ms/step - loss: 0.3459 - AUC: 0.4981 - accuracy: 0.8934\n",
      "Epoch 9/25\n",
      "1536/1536 [==============================] - 8s 5ms/step - loss: 0.3460 - AUC: 0.4961 - accuracy: 0.8934\n",
      "Epoch 10/25\n",
      "1536/1536 [==============================] - 8s 5ms/step - loss: 0.3451 - AUC: 0.4992 - accuracy: 0.8934\n",
      "Epoch 11/25\n",
      "1536/1536 [==============================] - 8s 5ms/step - loss: 0.3459 - AUC: 0.5002 - accuracy: 0.8934\n",
      "Epoch 12/25\n",
      "1536/1536 [==============================] - 8s 5ms/step - loss: 0.3451 - AUC: 0.4953 - accuracy: 0.8934\n",
      "Epoch 13/25\n",
      "1536/1536 [==============================] - 8s 5ms/step - loss: 0.3452 - AUC: 0.5031 - accuracy: 0.8934\n",
      "Epoch 14/25\n",
      "1536/1536 [==============================] - 8s 5ms/step - loss: 0.3445 - AUC: 0.5024 - accuracy: 0.8934\n",
      "Epoch 15/25\n",
      "1536/1536 [==============================] - 8s 5ms/step - loss: 0.3468 - AUC: 0.4971 - accuracy: 0.8934\n",
      "Epoch 16/25\n",
      "1536/1536 [==============================] - 8s 5ms/step - loss: 0.3448 - AUC: 0.5002 - accuracy: 0.8934\n",
      "Epoch 17/25\n",
      "1536/1536 [==============================] - 8s 5ms/step - loss: 0.3458 - AUC: 0.4993 - accuracy: 0.8934\n",
      "Epoch 18/25\n",
      "1536/1536 [==============================] - 8s 5ms/step - loss: 0.3456 - AUC: 0.4997 - accuracy: 0.8934\n",
      "Epoch 19/25\n",
      "1536/1536 [==============================] - 8s 5ms/step - loss: 0.3458 - AUC: 0.4999 - accuracy: 0.8934\n",
      "Epoch 20/25\n",
      "1536/1536 [==============================] - 8s 5ms/step - loss: 0.3459 - AUC: 0.5013 - accuracy: 0.8934\n",
      "Epoch 21/25\n",
      "1536/1536 [==============================] - 8s 5ms/step - loss: 0.3455 - AUC: 0.5007 - accuracy: 0.8934\n",
      "Epoch 22/25\n",
      "1536/1536 [==============================] - 8s 5ms/step - loss: 0.3466 - AUC: 0.4976 - accuracy: 0.8934\n",
      "Epoch 23/25\n",
      "1536/1536 [==============================] - 8s 5ms/step - loss: 0.3449 - AUC: 0.5016 - accuracy: 0.8934\n",
      "Epoch 24/25\n",
      "1536/1536 [==============================] - 8s 5ms/step - loss: 0.3462 - AUC: 0.4998 - accuracy: 0.8934\n",
      "Epoch 25/25\n",
      "1536/1536 [==============================] - 8s 5ms/step - loss: 0.3462 - AUC: 0.5003 - accuracy: 0.8934\n",
      "Mean Accuracy  - Neural Network Tuning 0.8933361\n",
      "Mean AUC  - Neural Network Tuning 0.49985027\n"
     ]
    }
   ],
   "source": [
    "# Method 3 Hyperparameter Tuning\n",
    "# Build a Sequential neural network - a binary classifier model with 3 hidden layers\n",
    "nn_clf2 = tf.keras.Sequential([\n",
    "    tf.keras.layers.Dense(12, input_dim = 27, activation = 'relu'),\n",
    "    tf.keras.layers.Dense(8, activation = 'relu'),\n",
    "    tf.keras.layers.Dense(8, activation = 'relu'),\n",
    "    tf.keras.layers.Dense(8, activation = 'relu'),\n",
    "    tf.keras.layers.Dense(1, activation = 'sigmoid')\n",
    "])\n",
    "\n",
    "optimizer = tf.keras.optimizers.SGD(.001) # being tuned\n",
    "nn_clf2.compile(loss='binary_crossentropy', optimizer=optimizer, metrics=['AUC', 'accuracy'])\n",
    "nn_clf2_history = nn_clf2.fit(train_batch, epochs=25)\n",
    "# Appeand Mean AUC to list, tuning the specified values below for each optimizer's learning rate \n",
    "tune_AUC.append(statistics.mean(nn_clf2_history.history['AUC']))          \n",
    "print(\"Mean Accuracy  - Neural Network Tuning\", statistics.mean(nn_clf2_history.history['accuracy']))\n",
    "print(\"Mean AUC  - Neural Network Tuning\", statistics.mean(nn_clf2_history.history['AUC']))"
   ]
  },
  {
   "cell_type": "markdown",
   "metadata": {},
   "source": [
    "__Results of your Hyperparameter Tuning (Approximate values of each metric)__\n",
    "\n",
    "SGD with learning_rate = .001 - Testing Set AUC, Testing Set Accuracy: .749, .896\n",
    "<br>\n",
    "Adam_learning_rate1 = .001 - Testing Set AUC, Testing Set Accuracy: .815, .9105\n",
    "<br>\n",
    "Adam learning_rate2 = .01 - Testing Set AUC, Testing Set Accuracy: .812, .9102\n",
    "<br>\n",
    "Adam learning_rate3 = .1 - Testing Set AUC, Testing Set Accuracy: .520, .8937\n",
    "<br>\n",
    "Adam learning_rate4 = 1 - Testing Set AUC, Testing Set Accuracy: .499, .893"
   ]
  },
  {
   "cell_type": "markdown",
   "metadata": {},
   "source": [
    "## Results"
   ]
  },
  {
   "cell_type": "markdown",
   "metadata": {},
   "source": [
    "Your results must include at least one comparison table and two plots"
   ]
  },
  {
   "cell_type": "markdown",
   "metadata": {},
   "source": [
    "### Comparison Table"
   ]
  },
  {
   "cell_type": "markdown",
   "metadata": {},
   "source": [
    "You should compare all of the methods in one or multiple tables, showing clearly the method names, the metrics used for comparison and the results (accuracy, scores, loss, etc). You may use [online tools such as this](https://www.tablesgenerator.com/markdown_tables) for generating and editing neatly-formatted tables in Markdown. You can then copy the code to your Markdown cell to generate the plot.\n",
    "<br>\n",
    "\n",
    "<b>Notice: </b>You should use at least two different metrics for comparison of your methods."
   ]
  },
  {
   "cell_type": "markdown",
   "metadata": {},
   "source": [
    "Your comparison table HERE:<br><br>\n",
    "\n",
    "| Metric/Method  | Stochastic Gradient Descent | Logistic Regression | Neural Network |\n",
    "|:--------------:|:--------:|:--------:|:--------:|\n",
    "|    Accuracy    |     .910    |     .910     |     .910     |\n",
    "|      AUC in ROC plot      |   .8154       |     .8160     |     .8176     |"
   ]
  },
  {
   "cell_type": "markdown",
   "metadata": {},
   "source": [
    "### Plots"
   ]
  },
  {
   "cell_type": "markdown",
   "metadata": {},
   "source": [
    "Using meaningful plots is an efficient way to visualize and conlude your experiments as well as results. Examples of acceptable plots include but are not limited to:\n",
    "- ROC curve (can be used with classification only)\n",
    "- loss plots (precision/recall for classification, mse or mae for regression)\n",
    "- hyperparameter tuning plots (varying one hyperparameter using for loops on x-axis and accuracy/loss on y-axis)\n",
    "- train/validation/test errors/loss plots, histogram of errors and so on.\n",
    "\n",
    "<b>Notice:</b> All plots should have title, xlabel, ylabel, and (if applicable) legend. Use different colors if you have multiple curves on one plot. Points will be deducted if your plots are incomplete. Check matplotlib documentation, examples from the assignments, and research papers or ML articles and find those plots that are applicable to your project. Individual students should have at least 2 plots.\n"
   ]
  },
  {
   "cell_type": "markdown",
   "metadata": {},
   "source": [
    "## <font color=\"red\"> Required Coding"
   ]
  },
  {
   "cell_type": "code",
   "execution_count": 38,
   "metadata": {},
   "outputs": [
    {
     "data": {
      "text/plain": [
       "Text(0.5, 0, 'False Positive Rate')"
      ]
     },
     "execution_count": 38,
     "metadata": {},
     "output_type": "execute_result"
    },
    {
     "data": {
      "image/png": "[encoded data removed]",
      "text/plain": [
       "<Figure size 432x288 with 1 Axes>"
      ]
     },
     "metadata": {
      "needs_background": "light"
     },
     "output_type": "display_data"
    }
   ],
   "source": [
    "# Plot-1 code here ROC curves for every model.\n",
    "\n",
    "# Plot ROC curve.\n",
    "plt.title('ROC')\n",
    "plt.plot(sgd_fpr, sgd_tpr, label = 'AUC_SGD = %0.2f' % sgd_roc_auc)\n",
    "plt.plot(logreg_fpr, logreg_tpr, label = 'AUC_LOGREG = %0.2f' % logreg_roc_auc)\n",
    "plt.plot(nn_fpr, nn_tpr, label = 'AUC_NN = %0.2f' % nn_roc_auc)\n",
    "plt.legend(loc = 'lower right')\n",
    "plt.plot([0, 1], [0, 1], 'r--')\n",
    "plt.xlim([0, 1])\n",
    "plt.ylim([0, 1])\n",
    "plt.ylabel('True Positive Rate')\n",
    "plt.xlabel('False Positive Rate')"
   ]
  },
  {
   "cell_type": "code",
   "execution_count": 39,
   "metadata": {},
   "outputs": [
    {
     "name": "stdout",
     "output_type": "stream",
     "text": [
      "-------------FITTING MODELS-------------\n",
      "-------------SCORING MODELS-------------\n"
     ]
    },
    {
     "data": {
      "image/png": "[encoded data removed]",
      "text/plain": [
       "<Figure size 792x792 with 3 Axes>"
      ]
     },
     "metadata": {
      "needs_background": "light"
     },
     "output_type": "display_data"
    },
    {
     "name": "stdout",
     "output_type": "stream",
     "text": [
      "-------------FITTING MODELS-------------\n",
      "-------------SCORING MODELS-------------\n"
     ]
    },
    {
     "data": {
      "image/png": "[encoded data removed]",
      "text/plain": [
       "<Figure size 144x576 with 2 Axes>"
      ]
     },
     "metadata": {
      "needs_background": "light"
     },
     "output_type": "display_data"
    },
    {
     "data": {
      "image/png": "[encoded data removed]",
      "text/plain": [
       "<Figure size 432x288 with 1 Axes>"
      ]
     },
     "metadata": {
      "needs_background": "light"
     },
     "output_type": "display_data"
    }
   ],
   "source": [
    "# Plot-2 code here'\n",
    "import numpy as np\n",
    "# Method 1 Hyperparameter Tuning plot\n",
    "grid1 = {\n",
    "    'alpha': [1e-8, 1e-7, 1e-6, 1e-5, 1e-4, 1e-3, 1e-2, 1e-1], # learning rate\n",
    "    'loss': ['log', 'hinge'], \n",
    "    'penalty': ['l2', 'l1', 'elasticnet', 'none'],\n",
    "    'n_jobs': [-1]\n",
    "}\n",
    "paramGrid = ParameterGrid(grid1)\n",
    "bestModel1, bestScore1, allModels, allScores = pf.bestFit(SGDClassifier, paramGrid,\n",
    "           X_train, y_train, X_test, y_test, metric = roc_auc_score, scoreLabel = \"AUC\", verbose = 0)\n",
    "# Method 2 Hyperparameter Tuning plot\n",
    "grid2 = {\n",
    "    'C': [1e-4, 1e-3, 1e-2, 1e-1, 1e0, 1e1, 1e2, 1e3, 1e4, 1e5],\n",
    "    'penalty': ['l2'],\n",
    "    'solver': ['sag'], \n",
    "    'n_jobs': [-1],\n",
    "    'max_iter': [150, 200, 250]\n",
    "}\n",
    "paramGrid = ParameterGrid(grid2)\n",
    "bestModel2, bestScore2, allModels, allScores = pf.bestFit(LogisticRegression, paramGrid,\n",
    "           X_train, y_train, X_test, y_test, \n",
    "           metric = roc_auc_score, scoreLabel = \"AUC\", verbose = 0)\n",
    "# Method 3 Hyperparameter Tuning plot, tune_AUC values obtained from method 3 hyperparameter tuning cell\n",
    "objects = ('SGD_Opt', 'Adam_1', 'Adam_2', 'Adam_3', 'Adam_4')\n",
    "y_pos = np.arange(len(objects))\n",
    "plt.bar(y_pos, tune_AUC, align='center', alpha=0.5, color = 'm')\n",
    "plt.xticks(y_pos, objects)\n",
    "plt.ylabel('AUC')\n",
    "plt.title('Method 3 Optimizers')\n",
    "plt.show()"
   ]
  },
  {
   "cell_type": "markdown",
   "metadata": {},
   "source": [
    "## Discussion"
   ]
  },
  {
   "cell_type": "markdown",
   "metadata": {},
   "source": [
    "Write at least two paragraphs to describe and discuss your results. Make arguments based on your observations and results. Use reasoning and analytical thinking for your discussion.\n",
    "\n",
    "\n",
    "<b>Notice:</b> Having a thorough discussion is VERY important and has a significant impact on your final score!\n",
    "\n",
    "> My First piece of analysis will be regarding the quality of my two selected metrics. I have purposely chosen what I see to be one good indicator of the performance of my models and one not so good indicator of the performance of my models. For my project, the AUC of my models was my choice of a good metric and the accuracy of my models was my choice of not so good metric. Even though my models' accuracy is relatively high at about 91%, this is misleading as a simple measure of accuracy will be biased to the size of the test data. As shown by the shape of the shots dataset, there is a very high number of shots that are captured in the data, specifically, 229,135 shots. Further, both of these metrics are slightly lacking in their ability to represent the true performance of model as their is a very high imbalance in the data. Relatively, there are a very high number of shots in the data that do not end up being goals. For example, if I was to build my model and tell it to pick \"no goal\" as the result for every shot, the model's accuracy would end up being about 89%. \n",
    "\n",
    "\n",
    "> Secondly, I will be discussing the hyperparameter tuning sections of my project. For my sklearn methods, I was able to find a package, parfit, that would handle the iterative analysis of each desired hyperparameter in addition to the plotting of this analysis, which made hyperparameter tuning for these methods extremely efficient. When performing my hyperparameter tuning, I was only focusing on the values for AUC as that was the metric that I deemed to be more worthwhile as discussed in the above paragraph. Even after I had spent the time finding my optimal hyperparameters, I could not find a significant increase in any of my models. This lack of perfomance increase leads me to believe that the only way to reach a large spike in the performance of my models would be to add more data to the dataset I have worked with. Specifically, more quantified data about the location of each shot could help to improve the performance of my models. Finally, one interesting observation I made was that in both my Stochastic Gradient Descent and Logistic Regression models, the most likely situation for a goal was a set piece situation. This observation would lead me to believe that my Neural Network model would find very similar results in terms of feature importance. However, it proved more difficult to obtain the feature importance scores for my Neural Network model.    "
   ]
  },
  {
   "cell_type": "markdown",
   "metadata": {},
   "source": [
    "## Grading"
   ]
  },
  {
   "cell_type": "markdown",
   "metadata": {},
   "source": [
    "Project grading rubric (total 100 points - 20% of the final grade):\n",
    "\n",
    "- Project proposal: 10 points\n",
    "\n",
    "- Final submission: 70 points - Breakdown as follows\n",
    "\n",
    "    - 30 points: Methods, hyperparameter tuning and comparison table\n",
    "    \n",
    "    - 20 points: Plots\n",
    "\n",
    "    - 20 points: Discussion (2 paragraphs)\n",
    "    \n",
    "- Project complexity and intellectual efforts judged by the instructor: 20 points\n",
    "    \n",
    "<b>Notice:</b> similar to the assignments, up to 10 points may be deducted if your notebook is not easy to read and/or has spelling/grammatical errors, so proofread your notebook!"
   ]
  },
  {
   "cell_type": "markdown",
   "metadata": {},
   "source": [
    "## How to Submit and Due Date - Late Penalty Will be Strictly Applied!"
   ]
  },
  {
   "cell_type": "markdown",
   "metadata": {},
   "source": [
    "Name your final project notebook ```Lastname-Project.ipynb```. Submit the notebook file with your dataset file in a zip file named EXACTLY as `Lastname-Project.zip` using the ```Final Project``` link on Blackboard.\n",
    "\n",
    "<font color=red><b>Project Final Submission Due Date: Monday Dec 9th 11:59PM.</b></font>"
   ]
  }
 ],
 "metadata": {
  "kernelspec": {
   "display_name": "Python 3",
   "language": "python",
   "name": "python3"
  },
  "language_info": {
   "codemirror_mode": {
    "name": "ipython",
    "version": 3
   },
   "file_extension": ".py",
   "mimetype": "text/x-python",
   "name": "python",
   "nbconvert_exporter": "python",
   "pygments_lexer": "ipython3",
   "version": "3.7.5"
  }
 },
 "nbformat": 4,
 "nbformat_minor": 2
}
